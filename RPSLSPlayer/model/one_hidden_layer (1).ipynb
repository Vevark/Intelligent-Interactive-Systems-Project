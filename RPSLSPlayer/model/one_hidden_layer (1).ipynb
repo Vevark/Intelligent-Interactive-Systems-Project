{
  "nbformat": 4,
  "nbformat_minor": 0,
  "metadata": {
    "kernelspec": {
      "display_name": "Python 3",
      "language": "python",
      "name": "python3"
    },
    "language_info": {
      "codemirror_mode": {
        "name": "ipython",
        "version": 3
      },
      "file_extension": ".py",
      "mimetype": "text/x-python",
      "name": "python",
      "nbconvert_exporter": "python",
      "pygments_lexer": "ipython3",
      "version": "3.7.4"
    },
    "colab": {
      "name": "one_hidden_layer.ipynb",
      "provenance": [],
      "collapsed_sections": []
    }
  },
  "cells": [
    {
      "cell_type": "code",
      "metadata": {
        "id": "3l3pUz8cxjqY",
        "colab_type": "code",
        "colab": {}
      },
      "source": [
        "from tensorflow.keras import Sequential\n",
        "from tensorflow.keras.layers import Dense, Input\n",
        "from tensorflow.keras.optimizers import Adam\n",
        "from sklearn.model_selection import train_test_split\n",
        "from sklearn.preprocessing import OneHotEncoder,LabelEncoder\n",
        "import functools\n",
        "import pandas as pd\n",
        "import numpy as np\n",
        "import tensorflow as tf\n",
        "import matplotlib.pyplot as plt\n",
        "\n"
      ],
      "execution_count": 0,
      "outputs": []
    },
    {
      "cell_type": "code",
      "metadata": {
        "id": "GdbGlIWRxjqc",
        "colab_type": "code",
        "outputId": "42780355-55c3-41f0-dc66-d39b253d8542",
        "colab": {
          "base_uri": "https://localhost:8080/",
          "height": 34
        }
      },
      "source": [
        "!ls"
      ],
      "execution_count": 0,
      "outputs": [
        {
          "output_type": "stream",
          "text": [
            "sample_data\n"
          ],
          "name": "stdout"
        }
      ]
    },
    {
      "cell_type": "code",
      "metadata": {
        "id": "XiEOLUuuxjqe",
        "colab_type": "code",
        "outputId": "ff653f9a-9c4e-4a25-f033-77fcdab6caf7",
        "colab": {
          "base_uri": "https://localhost:8080/",
          "height": 1000
        }
      },
      "source": [
        "filepath = \"sample_data/Dataset_Subsystem_2.csv\"\n",
        "data = pd.read_csv(filepath)\n",
        "data.info()"
      ],
      "execution_count": 0,
      "outputs": [
        {
          "output_type": "stream",
          "text": [
            "<class 'pandas.core.frame.DataFrame'>\n",
            "RangeIndex: 62219 entries, 0 to 62218\n",
            "Data columns (total 84 columns):\n",
            " #   Column              Non-Null Count  Dtype \n",
            "---  ------              --------------  ----- \n",
            " 0   ID                  62219 non-null  int64 \n",
            " 1   frame               62219 non-null  int64 \n",
            " 2   camera_facing_side  62219 non-null  object\n",
            " 3   gesture             62219 non-null  object\n",
            " 4   palm_root_x         62219 non-null  int64 \n",
            " 5   palm_root_y         62219 non-null  int64 \n",
            " 6   palm_thumb_1_x      62219 non-null  int64 \n",
            " 7   palm_thumb_1_y      62219 non-null  int64 \n",
            " 8   palm_thumb_2_x      62219 non-null  int64 \n",
            " 9   palm_thumb_2_y      62219 non-null  int64 \n",
            " 10  palm_thumb_3_x      62219 non-null  int64 \n",
            " 11  palm_thumb_3_y      62219 non-null  int64 \n",
            " 12  palm_index_1_x      62219 non-null  int64 \n",
            " 13  palm_index_1_y      62219 non-null  int64 \n",
            " 14  palm_index_2_x      62219 non-null  int64 \n",
            " 15  palm_index_2_y      62219 non-null  int64 \n",
            " 16  palm_index_3_x      62219 non-null  int64 \n",
            " 17  palm_index_3_y      62219 non-null  int64 \n",
            " 18  palm_index_4_x      62219 non-null  int64 \n",
            " 19  palm_index_4_y      62219 non-null  int64 \n",
            " 20  palm_middle_1_x     62219 non-null  int64 \n",
            " 21  palm_middle_1_y     62219 non-null  int64 \n",
            " 22  palm_middle_2_x     62219 non-null  int64 \n",
            " 23  palm_middle_2_y     62219 non-null  int64 \n",
            " 24  palm_middle_3_x     62219 non-null  int64 \n",
            " 25  palm_middle_3_y     62219 non-null  int64 \n",
            " 26  palm_middle_4_x     62219 non-null  int64 \n",
            " 27  palm_middle_4_y     62219 non-null  int64 \n",
            " 28  palm_ring_1_x       62219 non-null  int64 \n",
            " 29  palm_ring_1_y       62219 non-null  int64 \n",
            " 30  palm_ring_2_x       62219 non-null  int64 \n",
            " 31  palm_ring_2_y       62219 non-null  int64 \n",
            " 32  palm_ring_3_x       62219 non-null  int64 \n",
            " 33  palm_ring_3_y       62219 non-null  int64 \n",
            " 34  palm_ring_4_x       62219 non-null  int64 \n",
            " 35  palm_ring_4_y       62219 non-null  int64 \n",
            " 36  palm_pinky_1_x      62219 non-null  int64 \n",
            " 37  palm_pinky_1_y      62219 non-null  int64 \n",
            " 38  palm_pinky_2_x      62219 non-null  int64 \n",
            " 39  palm_pinky_2_y      62219 non-null  int64 \n",
            " 40  palm_pinky_3_x      62219 non-null  int64 \n",
            " 41  palm_pinky_3_y      62219 non-null  int64 \n",
            " 42  palm_pinky_4_x      62219 non-null  int64 \n",
            " 43  palm_pinky_4_y      62219 non-null  int64 \n",
            " 44  dorsal_root_x       62219 non-null  int64 \n",
            " 45  dorsal_root_y       62219 non-null  int64 \n",
            " 46  dorsal_thumb_1_x    62219 non-null  int64 \n",
            " 47  dorsal_thumb_1_y    62219 non-null  int64 \n",
            " 48  dorsal_thumb_2_x    62219 non-null  int64 \n",
            " 49  dorsal_thumb_2_y    62219 non-null  int64 \n",
            " 50  dorsal_thumb_3_x    62219 non-null  int64 \n",
            " 51  dorsal_thumb_3_y    62219 non-null  int64 \n",
            " 52  dorsal_index_1_x    62219 non-null  int64 \n",
            " 53  dorsal_index_1_y    62219 non-null  int64 \n",
            " 54  dorsal_index_2_x    62219 non-null  int64 \n",
            " 55  dorsal_index_2_y    62219 non-null  int64 \n",
            " 56  dorsal_index_3_x    62219 non-null  int64 \n",
            " 57  dorsal_index_3_y    62219 non-null  int64 \n",
            " 58  dorsal_index_4_x    62219 non-null  int64 \n",
            " 59  dorsal_index_4_y    62219 non-null  int64 \n",
            " 60  dorsal_middle_1_x   62219 non-null  int64 \n",
            " 61  dorsal_middle_1_y   62219 non-null  int64 \n",
            " 62  dorsal_middle_2_x   62219 non-null  int64 \n",
            " 63  dorsal_middle_2_y   62219 non-null  int64 \n",
            " 64  dorsal_middle_3_x   62219 non-null  int64 \n",
            " 65  dorsal_middle_3_y   62219 non-null  int64 \n",
            " 66  dorsal_middle_4_x   62219 non-null  int64 \n",
            " 67  dorsal_middle_4_y   62219 non-null  int64 \n",
            " 68  dorsal_ring_1_x     62219 non-null  int64 \n",
            " 69  dorsal_ring_1_y     62219 non-null  int64 \n",
            " 70  dorsal_ring_2_x     62219 non-null  int64 \n",
            " 71  dorsal_ring_2_y     62219 non-null  int64 \n",
            " 72  dorsal_ring_3_x     62219 non-null  int64 \n",
            " 73  dorsal_ring_3_y     62219 non-null  int64 \n",
            " 74  dorsal_ring_4_x     62219 non-null  int64 \n",
            " 75  dorsal_ring_4_y     62219 non-null  int64 \n",
            " 76  dorsal_pinky_1_x    62219 non-null  int64 \n",
            " 77  dorsal_pinky_1_y    62219 non-null  int64 \n",
            " 78  dorsal_pinky_2_x    62219 non-null  int64 \n",
            " 79  dorsal_pinky_2_y    62219 non-null  int64 \n",
            " 80  dorsal_pinky_3_x    62219 non-null  int64 \n",
            " 81  dorsal_pinky_3_y    62219 non-null  int64 \n",
            " 82  dorsal_pinky_4_x    62219 non-null  int64 \n",
            " 83  dorsal_pinky_4_y    62219 non-null  int64 \n",
            "dtypes: int64(82), object(2)\n",
            "memory usage: 39.9+ MB\n"
          ],
          "name": "stdout"
        }
      ]
    },
    {
      "cell_type": "code",
      "metadata": {
        "id": "nWJUv5Hdxjqh",
        "colab_type": "code",
        "outputId": "6d2dc48d-2361-4450-939e-0f60a320aff1",
        "colab": {
          "base_uri": "https://localhost:8080/",
          "height": 111
        }
      },
      "source": [
        "X = data.loc[:,\"palm_root_x\":\"dorsal_pinky_4_y\"]\n",
        "Y = data.loc[:,\"camera_facing_side\":\"gesture\"]\n",
        "Y.head(2)"
      ],
      "execution_count": 0,
      "outputs": [
        {
          "output_type": "execute_result",
          "data": {
            "text/html": [
              "<div>\n",
              "<style scoped>\n",
              "    .dataframe tbody tr th:only-of-type {\n",
              "        vertical-align: middle;\n",
              "    }\n",
              "\n",
              "    .dataframe tbody tr th {\n",
              "        vertical-align: top;\n",
              "    }\n",
              "\n",
              "    .dataframe thead th {\n",
              "        text-align: right;\n",
              "    }\n",
              "</style>\n",
              "<table border=\"1\" class=\"dataframe\">\n",
              "  <thead>\n",
              "    <tr style=\"text-align: right;\">\n",
              "      <th></th>\n",
              "      <th>camera_facing_side</th>\n",
              "      <th>gesture</th>\n",
              "    </tr>\n",
              "  </thead>\n",
              "  <tbody>\n",
              "    <tr>\n",
              "      <th>0</th>\n",
              "      <td>open</td>\n",
              "      <td>palm</td>\n",
              "    </tr>\n",
              "    <tr>\n",
              "      <th>1</th>\n",
              "      <td>open</td>\n",
              "      <td>palm</td>\n",
              "    </tr>\n",
              "  </tbody>\n",
              "</table>\n",
              "</div>"
            ],
            "text/plain": [
              "  camera_facing_side gesture\n",
              "0               open    palm\n",
              "1               open    palm"
            ]
          },
          "metadata": {
            "tags": []
          },
          "execution_count": 10
        }
      ]
    },
    {
      "cell_type": "code",
      "metadata": {
        "id": "-WquQqphxjqj",
        "colab_type": "code",
        "outputId": "39d89d5c-c7de-4bbe-b243-3192ce52bb7d",
        "colab": {
          "base_uri": "https://localhost:8080/",
          "height": 111
        }
      },
      "source": [
        "Y['label'] = Y['camera_facing_side'].map(str) + Y[\"gesture\"].map(str)\n",
        "Y = Y.drop(columns = ['camera_facing_side','gesture'])\n",
        "Y.head(2)"
      ],
      "execution_count": 0,
      "outputs": [
        {
          "output_type": "execute_result",
          "data": {
            "text/html": [
              "<div>\n",
              "<style scoped>\n",
              "    .dataframe tbody tr th:only-of-type {\n",
              "        vertical-align: middle;\n",
              "    }\n",
              "\n",
              "    .dataframe tbody tr th {\n",
              "        vertical-align: top;\n",
              "    }\n",
              "\n",
              "    .dataframe thead th {\n",
              "        text-align: right;\n",
              "    }\n",
              "</style>\n",
              "<table border=\"1\" class=\"dataframe\">\n",
              "  <thead>\n",
              "    <tr style=\"text-align: right;\">\n",
              "      <th></th>\n",
              "      <th>label</th>\n",
              "    </tr>\n",
              "  </thead>\n",
              "  <tbody>\n",
              "    <tr>\n",
              "      <th>0</th>\n",
              "      <td>openpalm</td>\n",
              "    </tr>\n",
              "    <tr>\n",
              "      <th>1</th>\n",
              "      <td>openpalm</td>\n",
              "    </tr>\n",
              "  </tbody>\n",
              "</table>\n",
              "</div>"
            ],
            "text/plain": [
              "      label\n",
              "0  openpalm\n",
              "1  openpalm"
            ]
          },
          "metadata": {
            "tags": []
          },
          "execution_count": 11
        }
      ]
    },
    {
      "cell_type": "code",
      "metadata": {
        "id": "Qc81bsdBxjql",
        "colab_type": "code",
        "outputId": "7cf26ded-734d-422d-822f-229eff38f4a5",
        "colab": {
          "base_uri": "https://localhost:8080/",
          "height": 71
        }
      },
      "source": [
        "label_encoder = LabelEncoder()\n",
        "Y = label_encoder.fit_transform(Y)\n",
        "Y = Y.reshape(-1,1)\n",
        "Y.shape\n",
        "enc = OneHotEncoder()\n",
        "enc.fit(Y)\n",
        "Y = enc.transform(Y).toarray()\n",
        "\n"
      ],
      "execution_count": 0,
      "outputs": [
        {
          "output_type": "stream",
          "text": [
            "/usr/local/lib/python3.6/dist-packages/sklearn/preprocessing/_label.py:251: DataConversionWarning: A column-vector y was passed when a 1d array was expected. Please change the shape of y to (n_samples, ), for example using ravel().\n",
            "  y = column_or_1d(y, warn=True)\n"
          ],
          "name": "stderr"
        }
      ]
    },
    {
      "cell_type": "code",
      "metadata": {
        "id": "Jpq2RqFjxjqo",
        "colab_type": "code",
        "outputId": "d4491a0b-211c-42d1-fd44-10e2b32f6223",
        "colab": {
          "base_uri": "https://localhost:8080/",
          "height": 34
        }
      },
      "source": [
        "\n",
        "Y[2]"
      ],
      "execution_count": 0,
      "outputs": [
        {
          "output_type": "execute_result",
          "data": {
            "text/plain": [
              "array([0., 0., 0., 1., 0., 0.])"
            ]
          },
          "metadata": {
            "tags": []
          },
          "execution_count": 13
        }
      ]
    },
    {
      "cell_type": "code",
      "metadata": {
        "id": "5t8raQnOxjqq",
        "colab_type": "code",
        "colab": {}
      },
      "source": [
        " X_train, X_test, y_train, y_test = train_test_split(\n",
        "...     X, Y, test_size=0.33, random_state=42)"
      ],
      "execution_count": 0,
      "outputs": []
    },
    {
      "cell_type": "code",
      "metadata": {
        "id": "LRFf308qxjqs",
        "colab_type": "code",
        "outputId": "7c5a7995-4568-451d-f1c5-bc873ecee963",
        "colab": {
          "base_uri": "https://localhost:8080/",
          "height": 1000
        }
      },
      "source": [
        "X_train.info()"
      ],
      "execution_count": 0,
      "outputs": [
        {
          "output_type": "stream",
          "text": [
            "<class 'pandas.core.frame.DataFrame'>\n",
            "Int64Index: 41686 entries, 14563 to 56422\n",
            "Data columns (total 80 columns):\n",
            " #   Column             Non-Null Count  Dtype\n",
            "---  ------             --------------  -----\n",
            " 0   palm_root_x        41686 non-null  int64\n",
            " 1   palm_root_y        41686 non-null  int64\n",
            " 2   palm_thumb_1_x     41686 non-null  int64\n",
            " 3   palm_thumb_1_y     41686 non-null  int64\n",
            " 4   palm_thumb_2_x     41686 non-null  int64\n",
            " 5   palm_thumb_2_y     41686 non-null  int64\n",
            " 6   palm_thumb_3_x     41686 non-null  int64\n",
            " 7   palm_thumb_3_y     41686 non-null  int64\n",
            " 8   palm_index_1_x     41686 non-null  int64\n",
            " 9   palm_index_1_y     41686 non-null  int64\n",
            " 10  palm_index_2_x     41686 non-null  int64\n",
            " 11  palm_index_2_y     41686 non-null  int64\n",
            " 12  palm_index_3_x     41686 non-null  int64\n",
            " 13  palm_index_3_y     41686 non-null  int64\n",
            " 14  palm_index_4_x     41686 non-null  int64\n",
            " 15  palm_index_4_y     41686 non-null  int64\n",
            " 16  palm_middle_1_x    41686 non-null  int64\n",
            " 17  palm_middle_1_y    41686 non-null  int64\n",
            " 18  palm_middle_2_x    41686 non-null  int64\n",
            " 19  palm_middle_2_y    41686 non-null  int64\n",
            " 20  palm_middle_3_x    41686 non-null  int64\n",
            " 21  palm_middle_3_y    41686 non-null  int64\n",
            " 22  palm_middle_4_x    41686 non-null  int64\n",
            " 23  palm_middle_4_y    41686 non-null  int64\n",
            " 24  palm_ring_1_x      41686 non-null  int64\n",
            " 25  palm_ring_1_y      41686 non-null  int64\n",
            " 26  palm_ring_2_x      41686 non-null  int64\n",
            " 27  palm_ring_2_y      41686 non-null  int64\n",
            " 28  palm_ring_3_x      41686 non-null  int64\n",
            " 29  palm_ring_3_y      41686 non-null  int64\n",
            " 30  palm_ring_4_x      41686 non-null  int64\n",
            " 31  palm_ring_4_y      41686 non-null  int64\n",
            " 32  palm_pinky_1_x     41686 non-null  int64\n",
            " 33  palm_pinky_1_y     41686 non-null  int64\n",
            " 34  palm_pinky_2_x     41686 non-null  int64\n",
            " 35  palm_pinky_2_y     41686 non-null  int64\n",
            " 36  palm_pinky_3_x     41686 non-null  int64\n",
            " 37  palm_pinky_3_y     41686 non-null  int64\n",
            " 38  palm_pinky_4_x     41686 non-null  int64\n",
            " 39  palm_pinky_4_y     41686 non-null  int64\n",
            " 40  dorsal_root_x      41686 non-null  int64\n",
            " 41  dorsal_root_y      41686 non-null  int64\n",
            " 42  dorsal_thumb_1_x   41686 non-null  int64\n",
            " 43  dorsal_thumb_1_y   41686 non-null  int64\n",
            " 44  dorsal_thumb_2_x   41686 non-null  int64\n",
            " 45  dorsal_thumb_2_y   41686 non-null  int64\n",
            " 46  dorsal_thumb_3_x   41686 non-null  int64\n",
            " 47  dorsal_thumb_3_y   41686 non-null  int64\n",
            " 48  dorsal_index_1_x   41686 non-null  int64\n",
            " 49  dorsal_index_1_y   41686 non-null  int64\n",
            " 50  dorsal_index_2_x   41686 non-null  int64\n",
            " 51  dorsal_index_2_y   41686 non-null  int64\n",
            " 52  dorsal_index_3_x   41686 non-null  int64\n",
            " 53  dorsal_index_3_y   41686 non-null  int64\n",
            " 54  dorsal_index_4_x   41686 non-null  int64\n",
            " 55  dorsal_index_4_y   41686 non-null  int64\n",
            " 56  dorsal_middle_1_x  41686 non-null  int64\n",
            " 57  dorsal_middle_1_y  41686 non-null  int64\n",
            " 58  dorsal_middle_2_x  41686 non-null  int64\n",
            " 59  dorsal_middle_2_y  41686 non-null  int64\n",
            " 60  dorsal_middle_3_x  41686 non-null  int64\n",
            " 61  dorsal_middle_3_y  41686 non-null  int64\n",
            " 62  dorsal_middle_4_x  41686 non-null  int64\n",
            " 63  dorsal_middle_4_y  41686 non-null  int64\n",
            " 64  dorsal_ring_1_x    41686 non-null  int64\n",
            " 65  dorsal_ring_1_y    41686 non-null  int64\n",
            " 66  dorsal_ring_2_x    41686 non-null  int64\n",
            " 67  dorsal_ring_2_y    41686 non-null  int64\n",
            " 68  dorsal_ring_3_x    41686 non-null  int64\n",
            " 69  dorsal_ring_3_y    41686 non-null  int64\n",
            " 70  dorsal_ring_4_x    41686 non-null  int64\n",
            " 71  dorsal_ring_4_y    41686 non-null  int64\n",
            " 72  dorsal_pinky_1_x   41686 non-null  int64\n",
            " 73  dorsal_pinky_1_y   41686 non-null  int64\n",
            " 74  dorsal_pinky_2_x   41686 non-null  int64\n",
            " 75  dorsal_pinky_2_y   41686 non-null  int64\n",
            " 76  dorsal_pinky_3_x   41686 non-null  int64\n",
            " 77  dorsal_pinky_3_y   41686 non-null  int64\n",
            " 78  dorsal_pinky_4_x   41686 non-null  int64\n",
            " 79  dorsal_pinky_4_y   41686 non-null  int64\n",
            "dtypes: int64(80)\n",
            "memory usage: 25.8 MB\n"
          ],
          "name": "stdout"
        }
      ]
    },
    {
      "cell_type": "code",
      "metadata": {
        "id": "-QzF50bRMPIw",
        "colab_type": "code",
        "colab": {}
      },
      "source": [
        "\n"
      ],
      "execution_count": 0,
      "outputs": []
    },
    {
      "cell_type": "code",
      "metadata": {
        "id": "ZRsq3Pz6xjqv",
        "colab_type": "code",
        "outputId": "b402a805-0824-457f-8ce9-096bde94b2dd",
        "colab": {
          "base_uri": "https://localhost:8080/",
          "height": 1000
        }
      },
      "source": [
        "model = Sequential()\n",
        "model.add(Input(shape=(80,)))\n",
        "model.add(Dense(100, activation='relu'))\n",
        "model.add(Dense(6, activation='softmax'))\n",
        "model.build()\n",
        "print(model.summary())\n",
        "adam = Adam(lr=0.01)\n",
        "\n",
        "model.compile(optimizer=adam, loss='categorical_crossentropy', metrics=['accuracy'])\n",
        "\n",
        "history = model.fit(X_train, y_train, epochs=30, batch_size=64, validation_split=0.2)\n",
        "print(History)\n",
        "val_loss, val_acc = model.evaluate(X_test, y_test)\n",
        "model.save(\"Sub2-weights.hdf5\")"
      ],
      "execution_count": 37,
      "outputs": [
        {
          "output_type": "stream",
          "text": [
            "Model: \"sequential_7\"\n",
            "_________________________________________________________________\n",
            "Layer (type)                 Output Shape              Param #   \n",
            "=================================================================\n",
            "dense_14 (Dense)             (None, 100)               8100      \n",
            "_________________________________________________________________\n",
            "dense_15 (Dense)             (None, 6)                 606       \n",
            "=================================================================\n",
            "Total params: 8,706\n",
            "Trainable params: 8,706\n",
            "Non-trainable params: 0\n",
            "_________________________________________________________________\n",
            "None\n",
            "Epoch 1/30\n",
            "522/522 [==============================] - 1s 2ms/step - loss: 1.0878 - accuracy: 0.9939 - val_loss: 0.0000e+00 - val_accuracy: 1.0000\n",
            "Epoch 2/30\n",
            "522/522 [==============================] - 1s 2ms/step - loss: 0.0000e+00 - accuracy: 1.0000 - val_loss: 0.0000e+00 - val_accuracy: 1.0000\n",
            "Epoch 3/30\n",
            "522/522 [==============================] - 1s 2ms/step - loss: 0.0000e+00 - accuracy: 1.0000 - val_loss: 0.0000e+00 - val_accuracy: 1.0000\n",
            "Epoch 4/30\n",
            "522/522 [==============================] - 1s 2ms/step - loss: 0.0000e+00 - accuracy: 1.0000 - val_loss: 0.0000e+00 - val_accuracy: 1.0000\n",
            "Epoch 5/30\n",
            "522/522 [==============================] - 1s 2ms/step - loss: 0.0000e+00 - accuracy: 1.0000 - val_loss: 0.0000e+00 - val_accuracy: 1.0000\n",
            "Epoch 6/30\n",
            "522/522 [==============================] - 1s 2ms/step - loss: 0.0000e+00 - accuracy: 1.0000 - val_loss: 0.0000e+00 - val_accuracy: 1.0000\n",
            "Epoch 7/30\n",
            "522/522 [==============================] - 1s 2ms/step - loss: 0.0000e+00 - accuracy: 1.0000 - val_loss: 0.0000e+00 - val_accuracy: 1.0000\n",
            "Epoch 8/30\n",
            "522/522 [==============================] - 1s 2ms/step - loss: 0.0000e+00 - accuracy: 1.0000 - val_loss: 0.0000e+00 - val_accuracy: 1.0000\n",
            "Epoch 9/30\n",
            "522/522 [==============================] - 1s 2ms/step - loss: 0.0000e+00 - accuracy: 1.0000 - val_loss: 0.0000e+00 - val_accuracy: 1.0000\n",
            "Epoch 10/30\n",
            "522/522 [==============================] - 1s 2ms/step - loss: 0.0000e+00 - accuracy: 1.0000 - val_loss: 0.0000e+00 - val_accuracy: 1.0000\n",
            "Epoch 11/30\n",
            "522/522 [==============================] - 1s 2ms/step - loss: 0.0000e+00 - accuracy: 1.0000 - val_loss: 0.0000e+00 - val_accuracy: 1.0000\n",
            "Epoch 12/30\n",
            "522/522 [==============================] - 1s 2ms/step - loss: 0.0000e+00 - accuracy: 1.0000 - val_loss: 0.0000e+00 - val_accuracy: 1.0000\n",
            "Epoch 13/30\n",
            "522/522 [==============================] - 1s 2ms/step - loss: 0.0000e+00 - accuracy: 1.0000 - val_loss: 0.0000e+00 - val_accuracy: 1.0000\n",
            "Epoch 14/30\n",
            "522/522 [==============================] - 1s 2ms/step - loss: 0.0000e+00 - accuracy: 1.0000 - val_loss: 0.0000e+00 - val_accuracy: 1.0000\n",
            "Epoch 15/30\n",
            "522/522 [==============================] - 1s 2ms/step - loss: 0.0000e+00 - accuracy: 1.0000 - val_loss: 0.0000e+00 - val_accuracy: 1.0000\n",
            "Epoch 16/30\n",
            "522/522 [==============================] - 1s 2ms/step - loss: 0.0000e+00 - accuracy: 1.0000 - val_loss: 0.0000e+00 - val_accuracy: 1.0000\n",
            "Epoch 17/30\n",
            "522/522 [==============================] - 1s 2ms/step - loss: 0.0000e+00 - accuracy: 1.0000 - val_loss: 0.0000e+00 - val_accuracy: 1.0000\n",
            "Epoch 18/30\n",
            "522/522 [==============================] - 1s 2ms/step - loss: 0.0000e+00 - accuracy: 1.0000 - val_loss: 0.0000e+00 - val_accuracy: 1.0000\n",
            "Epoch 19/30\n",
            "522/522 [==============================] - 1s 2ms/step - loss: 0.0000e+00 - accuracy: 1.0000 - val_loss: 0.0000e+00 - val_accuracy: 1.0000\n",
            "Epoch 20/30\n",
            "522/522 [==============================] - 1s 2ms/step - loss: 0.0000e+00 - accuracy: 1.0000 - val_loss: 0.0000e+00 - val_accuracy: 1.0000\n",
            "Epoch 21/30\n",
            "522/522 [==============================] - 1s 2ms/step - loss: 0.0000e+00 - accuracy: 1.0000 - val_loss: 0.0000e+00 - val_accuracy: 1.0000\n",
            "Epoch 22/30\n",
            "522/522 [==============================] - 1s 2ms/step - loss: 0.0000e+00 - accuracy: 1.0000 - val_loss: 0.0000e+00 - val_accuracy: 1.0000\n",
            "Epoch 23/30\n",
            "522/522 [==============================] - 1s 2ms/step - loss: 0.0000e+00 - accuracy: 1.0000 - val_loss: 0.0000e+00 - val_accuracy: 1.0000\n",
            "Epoch 24/30\n",
            "522/522 [==============================] - 1s 2ms/step - loss: 0.0000e+00 - accuracy: 1.0000 - val_loss: 0.0000e+00 - val_accuracy: 1.0000\n",
            "Epoch 25/30\n",
            "522/522 [==============================] - 1s 2ms/step - loss: 0.0000e+00 - accuracy: 1.0000 - val_loss: 0.0000e+00 - val_accuracy: 1.0000\n",
            "Epoch 26/30\n",
            "522/522 [==============================] - 1s 2ms/step - loss: 0.0000e+00 - accuracy: 1.0000 - val_loss: 0.0000e+00 - val_accuracy: 1.0000\n",
            "Epoch 27/30\n",
            "522/522 [==============================] - 1s 2ms/step - loss: 0.0000e+00 - accuracy: 1.0000 - val_loss: 0.0000e+00 - val_accuracy: 1.0000\n",
            "Epoch 28/30\n",
            "522/522 [==============================] - 1s 2ms/step - loss: 0.0000e+00 - accuracy: 1.0000 - val_loss: 0.0000e+00 - val_accuracy: 1.0000\n",
            "Epoch 29/30\n",
            "522/522 [==============================] - 1s 2ms/step - loss: 0.0000e+00 - accuracy: 1.0000 - val_loss: 0.0000e+00 - val_accuracy: 1.0000\n",
            "Epoch 30/30\n",
            "522/522 [==============================] - 1s 2ms/step - loss: 0.0000e+00 - accuracy: 1.0000 - val_loss: 0.0000e+00 - val_accuracy: 1.0000\n",
            "<tensorflow.python.keras.callbacks.History object at 0x7f45b772eda0>\n",
            "642/642 [==============================] - 1s 1ms/step - loss: 0.0000e+00 - accuracy: 1.0000\n"
          ],
          "name": "stdout"
        }
      ]
    },
    {
      "cell_type": "code",
      "metadata": {
        "id": "_kpMy11xOF_I",
        "colab_type": "code",
        "colab": {
          "base_uri": "https://localhost:8080/",
          "height": 295
        },
        "outputId": "ec622412-5588-4596-a235-3c8b654e6aa6"
      },
      "source": [
        "\n",
        "# \"Loss\"\n",
        "plt.plot(history.history['loss'])\n",
        "\n",
        "plt.title('model loss')\n",
        "plt.ylabel('loss')\n",
        "plt.xlabel('epoch')\n",
        "plt.legend(['train', 'validation'], loc='upper left')\n",
        "plt.show()"
      ],
      "execution_count": 43,
      "outputs": [
        {
          "output_type": "display_data",
          "data": {
            "image/png": "[encoded data removed]",
            "text/plain": [
              "<Figure size 432x288 with 1 Axes>"
            ]
          },
          "metadata": {
            "tags": [],
            "needs_background": "light"
          }
        }
      ]
    },
    {
      "cell_type": "code",
      "metadata": {
        "id": "ZSXIe3U1GibP",
        "colab_type": "code",
        "colab": {
          "base_uri": "https://localhost:8080/",
          "height": 34
        },
        "outputId": "b4b49be0-de46-4193-bb86-b7a07caee2bd"
      },
      "source": [
        "enc.categories_"
      ],
      "execution_count": 22,
      "outputs": [
        {
          "output_type": "execute_result",
          "data": {
            "text/plain": [
              "[array([0, 1, 2, 3, 4, 5])]"
            ]
          },
          "metadata": {
            "tags": []
          },
          "execution_count": 22
        }
      ]
    },
    {
      "cell_type": "code",
      "metadata": {
        "id": "u28KeB8HGrGs",
        "colab_type": "code",
        "colab": {
          "base_uri": "https://localhost:8080/",
          "height": 51
        },
        "outputId": "e11ed8e1-3943-4ef0-9cda-f78c2d348171"
      },
      "source": [
        "label_encoder.classes_"
      ],
      "execution_count": 23,
      "outputs": [
        {
          "output_type": "execute_result",
          "data": {
            "text/plain": [
              "array(['fistdorsal', 'fistpalm', 'opendorsal', 'openpalm',\n",
              "       'three_fingersdorsal', 'three_fingerspalm'], dtype=object)"
            ]
          },
          "metadata": {
            "tags": []
          },
          "execution_count": 23
        }
      ]
    }
  ]
}